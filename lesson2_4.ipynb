{
 "cells": [
  {
   "cell_type": "code",
   "execution_count": 1,
   "id": "61dd7391",
   "metadata": {},
   "outputs": [],
   "source": [
    "\n",
    "class Person:\n",
    "    def __init__(self,name,age):\n",
    "        self.name = name\n",
    "        self.age = age\n",
    "        \n",
    "    def exclaim(self):\n",
    "        print(self.name)\n",
    "        print(self.age)\n",
    "        \n",
    "class Student(Person):          \n",
    "    def __init__(self,name,age,chinese=0,english=0,math=0):\n",
    "        super().__init__(name,age)\n",
    "        self.chinese = chinese\n",
    "        self.english = english\n",
    "        self.math = math\n",
    "        \n",
    "    def exclaim(self):\n",
    "        super().exclaim()\n",
    "        print(f\"chinese={self.chinese}\")\n",
    "        print(f\"english={self.english}\")\n",
    "        print(f\"math={self.math}\")\n",
    "    @property\n",
    "    def scores(self):\n",
    "        return self.chinese + self.english + self.math\n",
    "    @property    \n",
    "    def average(self):\n",
    "        return self.scores / 3.0"
   ]
  },
  {
   "cell_type": "code",
   "execution_count": 2,
   "id": "b7e1b55a",
   "metadata": {},
   "outputs": [],
   "source": [
    "p1 = Person(name=\"robert\",age=18)\n",
    "p1.__class__\n",
    "p2 = Person(name=\"john\",age=20)"
   ]
  },
  {
   "cell_type": "code",
   "execution_count": 3,
   "id": "de0d1ff0",
   "metadata": {},
   "outputs": [
    {
     "name": "stdout",
     "output_type": "stream",
     "text": [
      "robert\n",
      "18\n"
     ]
    }
   ],
   "source": [
    "p1.exclaim()"
   ]
  },
  {
   "cell_type": "code",
   "execution_count": 4,
   "id": "a6b868f2",
   "metadata": {},
   "outputs": [
    {
     "name": "stdout",
     "output_type": "stream",
     "text": [
      "john\n",
      "20\n"
     ]
    }
   ],
   "source": [
    "p2.exclaim()"
   ]
  },
  {
   "cell_type": "code",
   "execution_count": 5,
   "id": "8127ffc3",
   "metadata": {},
   "outputs": [
    {
     "name": "stdout",
     "output_type": "stream",
     "text": [
      "0\n",
      "0\n",
      "0\n"
     ]
    }
   ],
   "source": [
    "student1 = Student(name=\"學生1\",age=14)\n",
    "print(student1.chinese)\n",
    "print(student1.english)\n",
    "print(student1.math)"
   ]
  },
  {
   "cell_type": "code",
   "execution_count": 6,
   "id": "55471ee9",
   "metadata": {},
   "outputs": [
    {
     "name": "stdout",
     "output_type": "stream",
     "text": [
      "學生3\n",
      "14\n",
      "chinese=78\n",
      "english=92\n",
      "math=65\n",
      "總分:235\n",
      "平均:78.33\n"
     ]
    }
   ],
   "source": [
    "student3 = Student(name=\"學生3\",age=14,chinese=78,english=92,math=65)\n",
    "student3.exclaim()\n",
    "print(f\"總分:{student3.scores}\")\n",
    "print(f\"平均:{student3.average:.2f}\")"
   ]
  },
  {
   "cell_type": "code",
   "execution_count": 7,
   "id": "aaef0752",
   "metadata": {},
   "outputs": [
    {
     "name": "stdout",
     "output_type": "stream",
     "text": [
      "學生4\n",
      "24\n",
      "chinese=71\n",
      "english=82\n",
      "math=75\n",
      "總分:228\n",
      "平均:76.00\n"
     ]
    }
   ],
   "source": [
    "student4 = Student(name=\"學生4\",age=24,chinese=71,english=82,math=75)\n",
    "student4.exclaim()\n",
    "print(f\"總分:{student4.scores}\")\n",
    "print(f\"平均:{student4.average:.2f}\")"
   ]
  },
  {
   "cell_type": "code",
   "execution_count": null,
   "id": "933b0d1e",
   "metadata": {},
   "outputs": [],
   "source": []
  }
 ],
 "metadata": {
  "kernelspec": {
   "display_name": "Python 3 (ipykernel)",
   "language": "python",
   "name": "python3"
  },
  "language_info": {
   "codemirror_mode": {
    "name": "ipython",
    "version": 3
   },
   "file_extension": ".py",
   "mimetype": "text/x-python",
   "name": "python",
   "nbconvert_exporter": "python",
   "pygments_lexer": "ipython3",
   "version": "3.9.10"
  }
 },
 "nbformat": 4,
 "nbformat_minor": 5
}
