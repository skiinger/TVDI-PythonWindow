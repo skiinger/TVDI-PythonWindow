{
 "cells": [
  {
   "cell_type": "code",
   "execution_count": 4,
   "id": "50d79c84",
   "metadata": {},
   "outputs": [],
   "source": [
    "file = open('oop.txt',mode='w',encoding='utf-8')\n",
    "print(\"oh,建立了一個檔案\",file=file)\n",
    "file.close()"
   ]
  },
  {
   "cell_type": "code",
   "execution_count": 5,
   "id": "c1f5a9eb",
   "metadata": {},
   "outputs": [
    {
     "data": {
      "text/plain": [
       "True"
      ]
     },
     "execution_count": 5,
     "metadata": {},
     "output_type": "execute_result"
    }
   ],
   "source": [
    "import os\n",
    "os.path.exists('oop.txt')"
   ]
  },
  {
   "cell_type": "code",
   "execution_count": 7,
   "id": "892e8b84",
   "metadata": {},
   "outputs": [
    {
     "data": {
      "text/plain": [
       "True"
      ]
     },
     "execution_count": 7,
     "metadata": {},
     "output_type": "execute_result"
    }
   ],
   "source": [
    "os.path.exists('./oop.txt')"
   ]
  },
  {
   "cell_type": "code",
   "execution_count": 8,
   "id": "aa1f36a8",
   "metadata": {},
   "outputs": [
    {
     "data": {
      "text/plain": [
       "True"
      ]
     },
     "execution_count": 8,
     "metadata": {},
     "output_type": "execute_result"
    }
   ],
   "source": [
    "os.path.exists('.')"
   ]
  },
  {
   "cell_type": "code",
   "execution_count": 17,
   "id": "42c7ba84",
   "metadata": {},
   "outputs": [
    {
     "data": {
      "text/plain": [
       "False"
      ]
     },
     "execution_count": 17,
     "metadata": {},
     "output_type": "execute_result"
    }
   ],
   "source": [
    "os.path.exists('..')"
   ]
  },
  {
   "cell_type": "code",
   "execution_count": 18,
   "id": "07135fa1",
   "metadata": {},
   "outputs": [
    {
     "data": {
      "text/plain": [
       "True"
      ]
     },
     "execution_count": 18,
     "metadata": {},
     "output_type": "execute_result"
    }
   ],
   "source": [
    "os.path.isfile('opp.txt')"
   ]
  },
  {
   "cell_type": "code",
   "execution_count": 19,
   "id": "b15df407",
   "metadata": {},
   "outputs": [
    {
     "data": {
      "text/plain": [
       "False"
      ]
     },
     "execution_count": 19,
     "metadata": {},
     "output_type": "execute_result"
    }
   ],
   "source": [
    "os.path.isdir('assets')"
   ]
  },
  {
   "cell_type": "code",
   "execution_count": 20,
   "id": "069d7aa3",
   "metadata": {},
   "outputs": [],
   "source": [
    "os.mkdir('assets')"
   ]
  },
  {
   "cell_type": "code",
   "execution_count": 21,
   "id": "fbb4c6fa",
   "metadata": {},
   "outputs": [
    {
     "data": {
      "text/plain": [
       "True"
      ]
     },
     "execution_count": 21,
     "metadata": {},
     "output_type": "execute_result"
    }
   ],
   "source": [
    "os.path.isdir('assets')"
   ]
  },
  {
   "cell_type": "code",
   "execution_count": 23,
   "id": "28e286e5",
   "metadata": {},
   "outputs": [
    {
     "data": {
      "text/plain": [
       "'C:\\\\職能發展學院\\\\lesson6_1\\\\assets\\\\opp.txt'"
      ]
     },
     "execution_count": 23,
     "metadata": {},
     "output_type": "execute_result"
    }
   ],
   "source": [
    "abspath = os.path.abspath('./assets/opp.txt')\n",
    "abspath"
   ]
  },
  {
   "cell_type": "code",
   "execution_count": 27,
   "id": "dae614ec",
   "metadata": {},
   "outputs": [
    {
     "data": {
      "text/plain": [
       "False"
      ]
     },
     "execution_count": 27,
     "metadata": {},
     "output_type": "execute_result"
    }
   ],
   "source": [
    "os.path.isdir(abspath)"
   ]
  },
  {
   "cell_type": "code",
   "execution_count": 26,
   "id": "34f81ee3",
   "metadata": {},
   "outputs": [],
   "source": [
    "file = open(abspath,mode='w',encoding='utf-8')\n",
    "print(\"oh,建立了一個檔案\",file=file)\n",
    "file.close()"
   ]
  },
  {
   "cell_type": "code",
   "execution_count": null,
   "id": "227b8426",
   "metadata": {},
   "outputs": [],
   "source": []
  }
 ],
 "metadata": {
  "kernelspec": {
   "display_name": "Python 3 (ipykernel)",
   "language": "python",
   "name": "python3"
  },
  "language_info": {
   "codemirror_mode": {
    "name": "ipython",
    "version": 3
   },
   "file_extension": ".py",
   "mimetype": "text/x-python",
   "name": "python",
   "nbconvert_exporter": "python",
   "pygments_lexer": "ipython3",
   "version": "3.9.10"
  }
 },
 "nbformat": 4,
 "nbformat_minor": 5
}
